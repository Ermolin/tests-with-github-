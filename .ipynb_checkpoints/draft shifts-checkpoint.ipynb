{
 "cells": [
  {
   "cell_type": "code",
   "execution_count": 2,
   "metadata": {},
   "outputs": [
    {
     "data": {
      "text/plain": [
       "Первый        Январь\n",
       "Второй       Февраль\n",
       "Третий          Март\n",
       "Четвёртый     Апрель\n",
       "dtype: object"
      ]
     },
     "metadata": {},
     "output_type": "display_data"
    },
    {
     "data": {
      "text/plain": [
       "Первый        Январь\n",
       "Второй       Февраль\n",
       "Третий          Март\n",
       "Четвёртый     Апрель\n",
       "dtype: object"
      ]
     },
     "execution_count": 2,
     "metadata": {},
     "output_type": "execute_result"
    }
   ],
   "source": [
    "import pandas as pd\n",
    "\n",
    "data = pd.Series([\"Январь\", \"Февраль\", \"Март\", \"Апрель\"],\n",
    "                 index = ['Первый', \"Второй\", \"Третий\", \"Четвёртый\"])\n",
    "display(data)\n",
    "data"
   ]
  },
  {
   "cell_type": "code",
   "execution_count": 3,
   "metadata": {},
   "outputs": [
    {
     "data": {
      "text/plain": [
       "Первый    Январь\n",
       "Третий      Март\n",
       "dtype: object"
      ]
     },
     "execution_count": 3,
     "metadata": {},
     "output_type": "execute_result"
    }
   ],
   "source": [
    "data.loc[[\"Первый\", \"Третий\"]]"
   ]
  },
  {
   "cell_type": "code",
   "execution_count": 4,
   "metadata": {},
   "outputs": [
    {
     "data": {
      "text/plain": [
       "Первый    Январь\n",
       "Третий      Март\n",
       "dtype: object"
      ]
     },
     "execution_count": 4,
     "metadata": {},
     "output_type": "execute_result"
    }
   ],
   "source": [
    "data.iloc[[0, 2]]"
   ]
  },
  {
   "cell_type": "code",
   "execution_count": 5,
   "metadata": {},
   "outputs": [
    {
     "name": "stdout",
     "output_type": "stream",
     "text": [
      "-70\n"
     ]
    }
   ],
   "source": [
    "data = pd.Series(list(range(10, 1001))) \n",
    "\n",
    "print(data.loc[10] + data.loc[23] - data.loc[245] + data.iloc[122])"
   ]
  },
  {
   "cell_type": "code",
   "execution_count": 8,
   "metadata": {},
   "outputs": [
    {
     "data": {
      "text/html": [
       "<div>\n",
       "<style scoped>\n",
       "    .dataframe tbody tr th:only-of-type {\n",
       "        vertical-align: middle;\n",
       "    }\n",
       "\n",
       "    .dataframe tbody tr th {\n",
       "        vertical-align: top;\n",
       "    }\n",
       "\n",
       "    .dataframe thead th {\n",
       "        text-align: right;\n",
       "    }\n",
       "</style>\n",
       "<table border=\"1\" class=\"dataframe\">\n",
       "  <thead>\n",
       "    <tr style=\"text-align: right;\">\n",
       "      <th></th>\n",
       "      <th>col1</th>\n",
       "      <th>col2</th>\n",
       "    </tr>\n",
       "  </thead>\n",
       "  <tbody>\n",
       "    <tr>\n",
       "      <th>0</th>\n",
       "      <td>1</td>\n",
       "      <td>3</td>\n",
       "    </tr>\n",
       "    <tr>\n",
       "      <th>1</th>\n",
       "      <td>2</td>\n",
       "      <td>4</td>\n",
       "    </tr>\n",
       "  </tbody>\n",
       "</table>\n",
       "</div>"
      ],
      "text/plain": [
       "   col1  col2\n",
       "0     1     3\n",
       "1     2     4"
      ]
     },
     "metadata": {},
     "output_type": "display_data"
    }
   ],
   "source": [
    "df = pd.DataFrame({'col1': [1, 2], 'col2': [3, 4]})\n",
    "display(df)\n"
   ]
  },
  {
   "cell_type": "code",
   "execution_count": 14,
   "metadata": {},
   "outputs": [
    {
     "data": {
      "text/html": [
       "<div>\n",
       "<style scoped>\n",
       "    .dataframe tbody tr th:only-of-type {\n",
       "        vertical-align: middle;\n",
       "    }\n",
       "\n",
       "    .dataframe tbody tr th {\n",
       "        vertical-align: top;\n",
       "    }\n",
       "\n",
       "    .dataframe thead th {\n",
       "        text-align: right;\n",
       "    }\n",
       "</style>\n",
       "<table border=\"1\" class=\"dataframe\">\n",
       "  <thead>\n",
       "    <tr style=\"text-align: right;\">\n",
       "      <th></th>\n",
       "      <th>foo</th>\n",
       "      <th>bar</th>\n",
       "      <th>baz</th>\n",
       "    </tr>\n",
       "  </thead>\n",
       "  <tbody>\n",
       "    <tr>\n",
       "      <th>foobar</th>\n",
       "      <td>1</td>\n",
       "      <td>2</td>\n",
       "      <td>3</td>\n",
       "    </tr>\n",
       "    <tr>\n",
       "      <th>foobaz</th>\n",
       "      <td>2</td>\n",
       "      <td>3</td>\n",
       "      <td>4</td>\n",
       "    </tr>\n",
       "  </tbody>\n",
       "</table>\n",
       "</div>"
      ],
      "text/plain": [
       "        foo  bar  baz\n",
       "foobar    1    2    3\n",
       "foobaz    2    3    4"
      ]
     },
     "metadata": {},
     "output_type": "display_data"
    }
   ],
   "source": [
    "df = pd.DataFrame([ [1,2,3], [2,3,4] ],\n",
    "                  columns = ['foo', 'bar', 'baz'], \n",
    "                  index = ['foobar', 'foobaz'])\n",
    "display(df)"
   ]
  },
  {
   "cell_type": "code",
   "execution_count": 21,
   "metadata": {},
   "outputs": [
    {
     "ename": "NameError",
     "evalue": "name 'squeeze' is not defined",
     "output_type": "error",
     "traceback": [
      "\u001b[0;31m---------------------------------------------------------------------------\u001b[0m",
      "\u001b[0;31mNameError\u001b[0m                                 Traceback (most recent call last)",
      "\u001b[0;32m<ipython-input-21-392b33ccd819>\u001b[0m in \u001b[0;36m<module>\u001b[0;34m\u001b[0m\n\u001b[0;32m----> 1\u001b[0;31m \u001b[0mfaf\u001b[0m \u001b[0;34m=\u001b[0m \u001b[0mpd\u001b[0m\u001b[0;34m.\u001b[0m\u001b[0mread_csv\u001b[0m\u001b[0;34m(\u001b[0m\u001b[0;34m'data_sf.csv'\u001b[0m\u001b[0;34m,\u001b[0m \u001b[0msqueeze\u001b[0m\u001b[0;34m)\u001b[0m\u001b[0;34m\u001b[0m\u001b[0;34m\u001b[0m\u001b[0m\n\u001b[0m\u001b[1;32m      2\u001b[0m \u001b[0mdisplay\u001b[0m\u001b[0;34m(\u001b[0m\u001b[0mfaf\u001b[0m\u001b[0;34m)\u001b[0m\u001b[0;34m\u001b[0m\u001b[0;34m\u001b[0m\u001b[0m\n",
      "\u001b[0;31mNameError\u001b[0m: name 'squeeze' is not defined"
     ]
    }
   ],
   "source": [
    "faf = pd.read_csv('data_sf.csv', squeeze)\n",
    "display(faf)"
   ]
  },
  {
   "cell_type": "code",
   "execution_count": 29,
   "metadata": {},
   "outputs": [
    {
     "data": {
      "text/html": [
       "<div>\n",
       "<style scoped>\n",
       "    .dataframe tbody tr th:only-of-type {\n",
       "        vertical-align: middle;\n",
       "    }\n",
       "\n",
       "    .dataframe tbody tr th {\n",
       "        vertical-align: top;\n",
       "    }\n",
       "\n",
       "    .dataframe thead th {\n",
       "        text-align: right;\n",
       "    }\n",
       "</style>\n",
       "<table border=\"1\" class=\"dataframe\">\n",
       "  <thead>\n",
       "    <tr style=\"text-align: right;\">\n",
       "      <th></th>\n",
       "      <th>Unnamed: 0</th>\n",
       "      <th>Name</th>\n",
       "      <th>Age</th>\n",
       "      <th>Nationality</th>\n",
       "      <th>Club</th>\n",
       "      <th>Value</th>\n",
       "      <th>Wage</th>\n",
       "      <th>Position</th>\n",
       "      <th>Crossing</th>\n",
       "      <th>Finishing</th>\n",
       "      <th>...</th>\n",
       "      <th>Penalties</th>\n",
       "      <th>Composure</th>\n",
       "      <th>Marking</th>\n",
       "      <th>StandingTackle</th>\n",
       "      <th>SlidingTackle</th>\n",
       "      <th>GKDiving</th>\n",
       "      <th>GKHandling</th>\n",
       "      <th>GKKicking</th>\n",
       "      <th>GKPositioning</th>\n",
       "      <th>GKReflexes</th>\n",
       "    </tr>\n",
       "  </thead>\n",
       "  <tbody>\n",
       "    <tr>\n",
       "      <th>0</th>\n",
       "      <td>0</td>\n",
       "      <td>L. Messi</td>\n",
       "      <td>31</td>\n",
       "      <td>Argentina</td>\n",
       "      <td>FC Barcelona</td>\n",
       "      <td>110500000</td>\n",
       "      <td>565000</td>\n",
       "      <td>RF</td>\n",
       "      <td>84</td>\n",
       "      <td>95</td>\n",
       "      <td>...</td>\n",
       "      <td>75</td>\n",
       "      <td>96</td>\n",
       "      <td>33</td>\n",
       "      <td>28</td>\n",
       "      <td>26</td>\n",
       "      <td>6</td>\n",
       "      <td>11</td>\n",
       "      <td>15</td>\n",
       "      <td>14</td>\n",
       "      <td>8</td>\n",
       "    </tr>\n",
       "    <tr>\n",
       "      <th>1</th>\n",
       "      <td>1</td>\n",
       "      <td>Cristiano Ronaldo</td>\n",
       "      <td>33</td>\n",
       "      <td>Portugal</td>\n",
       "      <td>Juventus</td>\n",
       "      <td>77000000</td>\n",
       "      <td>405000</td>\n",
       "      <td>ST</td>\n",
       "      <td>84</td>\n",
       "      <td>94</td>\n",
       "      <td>...</td>\n",
       "      <td>85</td>\n",
       "      <td>95</td>\n",
       "      <td>28</td>\n",
       "      <td>31</td>\n",
       "      <td>23</td>\n",
       "      <td>7</td>\n",
       "      <td>11</td>\n",
       "      <td>15</td>\n",
       "      <td>14</td>\n",
       "      <td>11</td>\n",
       "    </tr>\n",
       "    <tr>\n",
       "      <th>2</th>\n",
       "      <td>2</td>\n",
       "      <td>Neymar Jr</td>\n",
       "      <td>26</td>\n",
       "      <td>Brazil</td>\n",
       "      <td>Paris Saint-Germain</td>\n",
       "      <td>118500000</td>\n",
       "      <td>290000</td>\n",
       "      <td>LW</td>\n",
       "      <td>79</td>\n",
       "      <td>87</td>\n",
       "      <td>...</td>\n",
       "      <td>81</td>\n",
       "      <td>94</td>\n",
       "      <td>27</td>\n",
       "      <td>24</td>\n",
       "      <td>33</td>\n",
       "      <td>9</td>\n",
       "      <td>9</td>\n",
       "      <td>15</td>\n",
       "      <td>15</td>\n",
       "      <td>11</td>\n",
       "    </tr>\n",
       "    <tr>\n",
       "      <th>3</th>\n",
       "      <td>3</td>\n",
       "      <td>De Gea</td>\n",
       "      <td>27</td>\n",
       "      <td>Spain</td>\n",
       "      <td>Manchester United</td>\n",
       "      <td>72000000</td>\n",
       "      <td>260000</td>\n",
       "      <td>GK</td>\n",
       "      <td>17</td>\n",
       "      <td>13</td>\n",
       "      <td>...</td>\n",
       "      <td>40</td>\n",
       "      <td>68</td>\n",
       "      <td>15</td>\n",
       "      <td>21</td>\n",
       "      <td>13</td>\n",
       "      <td>90</td>\n",
       "      <td>85</td>\n",
       "      <td>87</td>\n",
       "      <td>88</td>\n",
       "      <td>94</td>\n",
       "    </tr>\n",
       "    <tr>\n",
       "      <th>4</th>\n",
       "      <td>4</td>\n",
       "      <td>K. De Bruyne</td>\n",
       "      <td>27</td>\n",
       "      <td>Belgium</td>\n",
       "      <td>Manchester City</td>\n",
       "      <td>102000000</td>\n",
       "      <td>355000</td>\n",
       "      <td>RCM</td>\n",
       "      <td>93</td>\n",
       "      <td>82</td>\n",
       "      <td>...</td>\n",
       "      <td>79</td>\n",
       "      <td>88</td>\n",
       "      <td>68</td>\n",
       "      <td>58</td>\n",
       "      <td>51</td>\n",
       "      <td>15</td>\n",
       "      <td>13</td>\n",
       "      <td>5</td>\n",
       "      <td>10</td>\n",
       "      <td>13</td>\n",
       "    </tr>\n",
       "    <tr>\n",
       "      <th>5</th>\n",
       "      <td>5</td>\n",
       "      <td>E. Hazard</td>\n",
       "      <td>27</td>\n",
       "      <td>Belgium</td>\n",
       "      <td>Chelsea</td>\n",
       "      <td>93000000</td>\n",
       "      <td>340000</td>\n",
       "      <td>LF</td>\n",
       "      <td>81</td>\n",
       "      <td>84</td>\n",
       "      <td>...</td>\n",
       "      <td>86</td>\n",
       "      <td>91</td>\n",
       "      <td>34</td>\n",
       "      <td>27</td>\n",
       "      <td>22</td>\n",
       "      <td>11</td>\n",
       "      <td>12</td>\n",
       "      <td>6</td>\n",
       "      <td>8</td>\n",
       "      <td>8</td>\n",
       "    </tr>\n",
       "    <tr>\n",
       "      <th>6</th>\n",
       "      <td>6</td>\n",
       "      <td>L. Modrić</td>\n",
       "      <td>32</td>\n",
       "      <td>Croatia</td>\n",
       "      <td>Real Madrid</td>\n",
       "      <td>67000000</td>\n",
       "      <td>420000</td>\n",
       "      <td>RCM</td>\n",
       "      <td>86</td>\n",
       "      <td>72</td>\n",
       "      <td>...</td>\n",
       "      <td>82</td>\n",
       "      <td>84</td>\n",
       "      <td>60</td>\n",
       "      <td>76</td>\n",
       "      <td>73</td>\n",
       "      <td>13</td>\n",
       "      <td>9</td>\n",
       "      <td>7</td>\n",
       "      <td>14</td>\n",
       "      <td>9</td>\n",
       "    </tr>\n",
       "    <tr>\n",
       "      <th>7</th>\n",
       "      <td>7</td>\n",
       "      <td>L. Suárez</td>\n",
       "      <td>31</td>\n",
       "      <td>Uruguay</td>\n",
       "      <td>FC Barcelona</td>\n",
       "      <td>80000000</td>\n",
       "      <td>455000</td>\n",
       "      <td>RS</td>\n",
       "      <td>77</td>\n",
       "      <td>93</td>\n",
       "      <td>...</td>\n",
       "      <td>85</td>\n",
       "      <td>85</td>\n",
       "      <td>62</td>\n",
       "      <td>45</td>\n",
       "      <td>38</td>\n",
       "      <td>27</td>\n",
       "      <td>25</td>\n",
       "      <td>31</td>\n",
       "      <td>33</td>\n",
       "      <td>37</td>\n",
       "    </tr>\n",
       "    <tr>\n",
       "      <th>8</th>\n",
       "      <td>8</td>\n",
       "      <td>Sergio Ramos</td>\n",
       "      <td>32</td>\n",
       "      <td>Spain</td>\n",
       "      <td>Real Madrid</td>\n",
       "      <td>51000000</td>\n",
       "      <td>380000</td>\n",
       "      <td>RCB</td>\n",
       "      <td>66</td>\n",
       "      <td>60</td>\n",
       "      <td>...</td>\n",
       "      <td>75</td>\n",
       "      <td>82</td>\n",
       "      <td>87</td>\n",
       "      <td>92</td>\n",
       "      <td>91</td>\n",
       "      <td>11</td>\n",
       "      <td>8</td>\n",
       "      <td>9</td>\n",
       "      <td>7</td>\n",
       "      <td>11</td>\n",
       "    </tr>\n",
       "    <tr>\n",
       "      <th>9</th>\n",
       "      <td>9</td>\n",
       "      <td>J. Oblak</td>\n",
       "      <td>25</td>\n",
       "      <td>Slovenia</td>\n",
       "      <td>Atlético Madrid</td>\n",
       "      <td>68000000</td>\n",
       "      <td>94000</td>\n",
       "      <td>GK</td>\n",
       "      <td>13</td>\n",
       "      <td>11</td>\n",
       "      <td>...</td>\n",
       "      <td>11</td>\n",
       "      <td>70</td>\n",
       "      <td>27</td>\n",
       "      <td>12</td>\n",
       "      <td>18</td>\n",
       "      <td>86</td>\n",
       "      <td>92</td>\n",
       "      <td>78</td>\n",
       "      <td>88</td>\n",
       "      <td>89</td>\n",
       "    </tr>\n",
       "  </tbody>\n",
       "</table>\n",
       "<p>10 rows × 42 columns</p>\n",
       "</div>"
      ],
      "text/plain": [
       "   Unnamed: 0               Name  Age Nationality                 Club  \\\n",
       "0           0           L. Messi   31   Argentina         FC Barcelona   \n",
       "1           1  Cristiano Ronaldo   33    Portugal             Juventus   \n",
       "2           2          Neymar Jr   26      Brazil  Paris Saint-Germain   \n",
       "3           3             De Gea   27       Spain    Manchester United   \n",
       "4           4       K. De Bruyne   27     Belgium      Manchester City   \n",
       "5           5          E. Hazard   27     Belgium              Chelsea   \n",
       "6           6          L. Modrić   32     Croatia          Real Madrid   \n",
       "7           7          L. Suárez   31     Uruguay         FC Barcelona   \n",
       "8           8       Sergio Ramos   32       Spain          Real Madrid   \n",
       "9           9           J. Oblak   25    Slovenia      Atlético Madrid   \n",
       "\n",
       "       Value    Wage Position  Crossing  Finishing  ...  Penalties  Composure  \\\n",
       "0  110500000  565000       RF        84         95  ...         75         96   \n",
       "1   77000000  405000       ST        84         94  ...         85         95   \n",
       "2  118500000  290000       LW        79         87  ...         81         94   \n",
       "3   72000000  260000       GK        17         13  ...         40         68   \n",
       "4  102000000  355000      RCM        93         82  ...         79         88   \n",
       "5   93000000  340000       LF        81         84  ...         86         91   \n",
       "6   67000000  420000      RCM        86         72  ...         82         84   \n",
       "7   80000000  455000       RS        77         93  ...         85         85   \n",
       "8   51000000  380000      RCB        66         60  ...         75         82   \n",
       "9   68000000   94000       GK        13         11  ...         11         70   \n",
       "\n",
       "   Marking  StandingTackle  SlidingTackle  GKDiving  GKHandling  GKKicking  \\\n",
       "0       33              28             26         6          11         15   \n",
       "1       28              31             23         7          11         15   \n",
       "2       27              24             33         9           9         15   \n",
       "3       15              21             13        90          85         87   \n",
       "4       68              58             51        15          13          5   \n",
       "5       34              27             22        11          12          6   \n",
       "6       60              76             73        13           9          7   \n",
       "7       62              45             38        27          25         31   \n",
       "8       87              92             91        11           8          9   \n",
       "9       27              12             18        86          92         78   \n",
       "\n",
       "   GKPositioning  GKReflexes  \n",
       "0             14           8  \n",
       "1             14          11  \n",
       "2             15          11  \n",
       "3             88          94  \n",
       "4             10          13  \n",
       "5              8           8  \n",
       "6             14           9  \n",
       "7             33          37  \n",
       "8              7          11  \n",
       "9             88          89  \n",
       "\n",
       "[10 rows x 42 columns]"
      ]
     },
     "metadata": {},
     "output_type": "display_data"
    }
   ],
   "source": [
    "football = pd.read_csv('data_sf.csv')\n",
    "display(football.head(10))"
   ]
  },
  {
   "cell_type": "code",
   "execution_count": null,
   "metadata": {},
   "outputs": [],
   "source": []
  },
  {
   "cell_type": "code",
   "execution_count": null,
   "metadata": {},
   "outputs": [],
   "source": []
  },
  {
   "cell_type": "code",
   "execution_count": 2,
   "metadata": {},
   "outputs": [
    {
     "name": "stdout",
     "output_type": "stream",
     "text": [
      "<class 'pandas.core.frame.DataFrame'>\n",
      "RangeIndex: 12897 entries, 0 to 12896\n",
      "Data columns (total 42 columns):\n",
      " #   Column           Non-Null Count  Dtype \n",
      "---  ------           --------------  ----- \n",
      " 0   Unnamed: 0       12897 non-null  int64 \n",
      " 1   Name             12897 non-null  object\n",
      " 2   Age              12897 non-null  int64 \n",
      " 3   Nationality      12897 non-null  object\n",
      " 4   Club             12897 non-null  object\n",
      " 5   Value            12897 non-null  int64 \n",
      " 6   Wage             12897 non-null  int64 \n",
      " 7   Position         12897 non-null  object\n",
      " 8   Crossing         12897 non-null  int64 \n",
      " 9   Finishing        12897 non-null  int64 \n",
      " 10  HeadingAccuracy  12897 non-null  int64 \n",
      " 11  ShortPassing     12897 non-null  int64 \n",
      " 12  Volleys          12897 non-null  int64 \n",
      " 13  Dribbling        12897 non-null  int64 \n",
      " 14  Curve            12897 non-null  int64 \n",
      " 15  FKAccuracy       12897 non-null  int64 \n",
      " 16  LongPassing      12897 non-null  int64 \n",
      " 17  BallControl      12897 non-null  int64 \n",
      " 18  Acceleration     12897 non-null  int64 \n",
      " 19  SprintSpeed      12897 non-null  int64 \n",
      " 20  Agility          12897 non-null  int64 \n",
      " 21  Reactions        12897 non-null  int64 \n",
      " 22  Balance          12897 non-null  int64 \n",
      " 23  ShotPower        12897 non-null  int64 \n",
      " 24  Jumping          12897 non-null  int64 \n",
      " 25  Stamina          12897 non-null  int64 \n",
      " 26  Strength         12897 non-null  int64 \n",
      " 27  LongShots        12897 non-null  int64 \n",
      " 28  Aggression       12897 non-null  int64 \n",
      " 29  Interceptions    12897 non-null  int64 \n",
      " 30  Positioning      12897 non-null  int64 \n",
      " 31  Vision           12897 non-null  int64 \n",
      " 32  Penalties        12897 non-null  int64 \n",
      " 33  Composure        12897 non-null  int64 \n",
      " 34  Marking          12897 non-null  int64 \n",
      " 35  StandingTackle   12897 non-null  int64 \n",
      " 36  SlidingTackle    12897 non-null  int64 \n",
      " 37  GKDiving         12897 non-null  int64 \n",
      " 38  GKHandling       12897 non-null  int64 \n",
      " 39  GKKicking        12897 non-null  int64 \n",
      " 40  GKPositioning    12897 non-null  int64 \n",
      " 41  GKReflexes       12897 non-null  int64 \n",
      "dtypes: int64(38), object(4)\n",
      "memory usage: 4.1+ MB\n"
     ]
    },
    {
     "data": {
      "text/plain": [
       "None"
      ]
     },
     "metadata": {},
     "output_type": "display_data"
    }
   ],
   "source": [
    "import pandas as pd\n",
    "\n",
    "football = pd.read_csv('data_sf.csv')\n",
    "display(football.info())"
   ]
  },
  {
   "cell_type": "code",
   "execution_count": null,
   "metadata": {},
   "outputs": [],
   "source": []
  },
  {
   "cell_type": "code",
   "execution_count": null,
   "metadata": {},
   "outputs": [],
   "source": []
  },
  {
   "cell_type": "code",
   "execution_count": 42,
   "metadata": {},
   "outputs": [
    {
     "data": {
      "text/html": [
       "<div>\n",
       "<style scoped>\n",
       "    .dataframe tbody tr th:only-of-type {\n",
       "        vertical-align: middle;\n",
       "    }\n",
       "\n",
       "    .dataframe tbody tr th {\n",
       "        vertical-align: top;\n",
       "    }\n",
       "\n",
       "    .dataframe thead th {\n",
       "        text-align: right;\n",
       "    }\n",
       "</style>\n",
       "<table border=\"1\" class=\"dataframe\">\n",
       "  <thead>\n",
       "    <tr style=\"text-align: right;\">\n",
       "      <th></th>\n",
       "      <th>Name</th>\n",
       "      <th>Nationality</th>\n",
       "      <th>Club</th>\n",
       "      <th>Position</th>\n",
       "    </tr>\n",
       "  </thead>\n",
       "  <tbody>\n",
       "    <tr>\n",
       "      <th>count</th>\n",
       "      <td>12897</td>\n",
       "      <td>12897</td>\n",
       "      <td>12897</td>\n",
       "      <td>12897</td>\n",
       "    </tr>\n",
       "    <tr>\n",
       "      <th>unique</th>\n",
       "      <td>12326</td>\n",
       "      <td>156</td>\n",
       "      <td>650</td>\n",
       "      <td>27</td>\n",
       "    </tr>\n",
       "    <tr>\n",
       "      <th>top</th>\n",
       "      <td>J. Rodríguez</td>\n",
       "      <td>England</td>\n",
       "      <td>Shonan Bellmare</td>\n",
       "      <td>GK</td>\n",
       "    </tr>\n",
       "    <tr>\n",
       "      <th>freq</th>\n",
       "      <td>9</td>\n",
       "      <td>1368</td>\n",
       "      <td>30</td>\n",
       "      <td>1641</td>\n",
       "    </tr>\n",
       "  </tbody>\n",
       "</table>\n",
       "</div>"
      ],
      "text/plain": [
       "                Name Nationality             Club Position\n",
       "count          12897       12897            12897    12897\n",
       "unique         12326         156              650       27\n",
       "top     J. Rodríguez     England  Shonan Bellmare       GK\n",
       "freq               9        1368               30     1641"
      ]
     },
     "metadata": {},
     "output_type": "display_data"
    }
   ],
   "source": [
    "display(football.describe(include=['object']))"
   ]
  },
  {
   "cell_type": "code",
   "execution_count": 49,
   "metadata": {},
   "outputs": [
    {
     "name": "stdout",
     "output_type": "stream",
     "text": [
      "<class 'pandas.core.frame.DataFrame'>\n",
      "RangeIndex: 12897 entries, 0 to 12896\n",
      "Data columns (total 42 columns):\n",
      " #   Column           Non-Null Count  Dtype \n",
      "---  ------           --------------  ----- \n",
      " 0   Unnamed: 0       12897 non-null  int64 \n",
      " 1   Name             12897 non-null  object\n",
      " 2   Age              12897 non-null  int64 \n",
      " 3   Nationality      12897 non-null  object\n",
      " 4   Club             12897 non-null  object\n",
      " 5   Value            12897 non-null  int64 \n",
      " 6   Wage             12897 non-null  int64 \n",
      " 7   Position         12897 non-null  object\n",
      " 8   Crossing         12897 non-null  int64 \n",
      " 9   Finishing        12897 non-null  int64 \n",
      " 10  HeadingAccuracy  12897 non-null  int64 \n",
      " 11  ShortPassing     12897 non-null  int64 \n",
      " 12  Volleys          12897 non-null  int64 \n",
      " 13  Dribbling        12897 non-null  int64 \n",
      " 14  Curve            12897 non-null  int64 \n",
      " 15  FKAccuracy       12897 non-null  int64 \n",
      " 16  LongPassing      12897 non-null  int64 \n",
      " 17  BallControl      12897 non-null  int64 \n",
      " 18  Acceleration     12897 non-null  int64 \n",
      " 19  SprintSpeed      12897 non-null  int64 \n",
      " 20  Agility          12897 non-null  int64 \n",
      " 21  Reactions        12897 non-null  int64 \n",
      " 22  Balance          12897 non-null  int64 \n",
      " 23  ShotPower        12897 non-null  int64 \n",
      " 24  Jumping          12897 non-null  int64 \n",
      " 25  Stamina          12897 non-null  int64 \n",
      " 26  Strength         12897 non-null  int64 \n",
      " 27  LongShots        12897 non-null  int64 \n",
      " 28  Aggression       12897 non-null  int64 \n",
      " 29  Interceptions    12897 non-null  int64 \n",
      " 30  Positioning      12897 non-null  int64 \n",
      " 31  Vision           12897 non-null  int64 \n",
      " 32  Penalties        12897 non-null  int64 \n",
      " 33  Composure        12897 non-null  int64 \n",
      " 34  Marking          12897 non-null  int64 \n",
      " 35  StandingTackle   12897 non-null  int64 \n",
      " 36  SlidingTackle    12897 non-null  int64 \n",
      " 37  GKDiving         12897 non-null  int64 \n",
      " 38  GKHandling       12897 non-null  int64 \n",
      " 39  GKKicking        12897 non-null  int64 \n",
      " 40  GKPositioning    12897 non-null  int64 \n",
      " 41  GKReflexes       12897 non-null  int64 \n",
      "dtypes: int64(38), object(4)\n",
      "memory usage: 4.1+ MB\n"
     ]
    },
    {
     "data": {
      "text/plain": [
       "None"
      ]
     },
     "metadata": {},
     "output_type": "display_data"
    }
   ],
   "source": [
    "display(football.info(null_counts=[False]))"
   ]
  },
  {
   "cell_type": "code",
   "execution_count": 54,
   "metadata": {},
   "outputs": [
    {
     "data": {
      "text/plain": [
       "0"
      ]
     },
     "metadata": {},
     "output_type": "display_data"
    }
   ],
   "source": [
    "display(football.Value.min())"
   ]
  },
  {
   "cell_type": "code",
   "execution_count": null,
   "metadata": {},
   "outputs": [],
   "source": [
    "Какова средняя скорость (SprintSpeed) футболистов, зарплата (Wage) которых выше среднего?\n",
    "Ответ округлите до сотых."
   ]
  },
  {
   "cell_type": "code",
   "execution_count": 59,
   "metadata": {},
   "outputs": [],
   "source": [
    "fotball=football[(football.Wage < football.Wage.mean())].SprintSpeed.mean()\n"
   ]
  },
  {
   "cell_type": "code",
   "execution_count": 63,
   "metadata": {},
   "outputs": [],
   "source": [
    "Какую позицию (Position) занимает футболист с самой высокой зарплатой (Wage)?"
   ]
  },
  {
   "cell_type": "code",
   "execution_count": 70,
   "metadata": {},
   "outputs": [],
   "source": [
    "fotball = football[(football.Wage == football.Wage.max())].Position"
   ]
  },
  {
   "cell_type": "code",
   "execution_count": null,
   "metadata": {},
   "outputs": [],
   "source": [
    "Сколько пенальти (Penalties) забили бразильские (Nationality, Brazil) футболисты за период"
   ]
  },
  {
   "cell_type": "code",
   "execution_count": 73,
   "metadata": {},
   "outputs": [],
   "source": [
    "fotball = football[(football.Nationality == 'Brazil')].Penalties.sum()"
   ]
  },
  {
   "cell_type": "code",
   "execution_count": null,
   "metadata": {},
   "outputs": [],
   "source": [
    "Укажите средний возраст (Age) игроков, у которых точность удара головой (HeadingAccuracy) > 50.\n",
    "Ответ округлите до сотых."
   ]
  },
  {
   "cell_type": "code",
   "execution_count": 75,
   "metadata": {},
   "outputs": [],
   "source": [
    "fotball = football[(football.HeadingAccuracy > 50)].Age.mean()"
   ]
  },
  {
   "cell_type": "code",
   "execution_count": null,
   "metadata": {},
   "outputs": [],
   "source": [
    "Укажите возраст (Age) самого молодого игрока, у которого хладнокровие (Composure) и реакция (Reactions)\n",
    "превышают 90% от максимального значения,\n",
    "представленного в датасете."
   ]
  },
  {
   "cell_type": "code",
   "execution_count": 84,
   "metadata": {},
   "outputs": [],
   "source": [
    "fotball = football[(football.Composure > (int(football.Composure.max())* 0.9)) & \n",
    "                   (football.Reactions > (int(football.Reactions.max())* 0.9))].Age.min()"
   ]
  },
  {
   "cell_type": "code",
   "execution_count": null,
   "metadata": {},
   "outputs": [],
   "source": [
    "Определите, насколько средняя реакция (Reactions) самых взрослых игроков (т.е. игроков, чей возраст (Age) \n",
    "равен максимальному) больше средней реакции самых молодых игроков.\n",
    "Ответ округлите до сотых."
   ]
  },
  {
   "cell_type": "code",
   "execution_count": 90,
   "metadata": {},
   "outputs": [],
   "source": [
    "fotball = float(football[(football.Age == football.Age.max())].Reactions.mean()) - float(football[(football.Age == football.Age.min())].Reactions.mean())"
   ]
  },
  {
   "cell_type": "code",
   "execution_count": null,
   "metadata": {},
   "outputs": [],
   "source": [
    "Из какой страны (Nationality) происходит больше всего игроков, чья стоимость \n",
    "(Value) превышает среднее значение?"
   ]
  },
  {
   "cell_type": "code",
   "execution_count": 5,
   "metadata": {},
   "outputs": [],
   "source": [
    "fotball = football[(football.Value > football.Value.mean())].Nationality.describe()"
   ]
  },
  {
   "cell_type": "code",
   "execution_count": null,
   "metadata": {},
   "outputs": [],
   "source": [
    "Определите, во сколько раз средняя зарплата (Wage) голкипера (Position, GK) \n",
    "с максимальным значением показателя \" Рефлексы\" (GKReflexes) выше средней зарплаты голкипера с\n",
    "максимальным значением показателя \"Владение мячом\" (GKHandling).\n",
    "Ответ округлите до сотых."
   ]
  },
  {
   "cell_type": "code",
   "execution_count": 7,
   "metadata": {},
   "outputs": [],
   "source": [
    "fb = (football[(football.GKReflexes == football.GKReflexes.max())].Wage.mean() / \n",
    "      football[(football.GKHandling == football.GKHandling.max())].Wage.mean())"
   ]
  },
  {
   "cell_type": "code",
   "execution_count": 8,
   "metadata": {},
   "outputs": [
    {
     "data": {
      "text/plain": [
       "2.765957446808511"
      ]
     },
     "execution_count": 8,
     "metadata": {},
     "output_type": "execute_result"
    }
   ],
   "source": [
    "fb"
   ]
  },
  {
   "cell_type": "code",
   "execution_count": null,
   "metadata": {},
   "outputs": [],
   "source": [
    "Определите, во сколько раз средняя сила удара (ShotPower) \n",
    "самых агрессивных игроков (игроков с максимальным значением показателя \"Агрессивность\" (Aggression)) \n",
    "выше средней силы удара игроков с минимальной агрессией. \n",
    "Ответ округлите до сотых."
   ]
  },
  {
   "cell_type": "code",
   "execution_count": 9,
   "metadata": {},
   "outputs": [],
   "source": [
    "fb = (football[(football.Aggression == football.Aggression.max())].ShotPower.mean() / \n",
    "      football[(football.Aggression == football.Aggression.min())].ShotPower.mean())"
   ]
  },
  {
   "cell_type": "code",
   "execution_count": 10,
   "metadata": {},
   "outputs": [
    {
     "data": {
      "text/plain": [
       "2.076923076923077"
      ]
     },
     "execution_count": 10,
     "metadata": {},
     "output_type": "execute_result"
    }
   ],
   "source": [
    "fb\n"
   ]
  },
  {
   "cell_type": "code",
   "execution_count": 22,
   "metadata": {},
   "outputs": [
    {
     "name": "stdout",
     "output_type": "stream",
     "text": [
      "GK     0.127239\n",
      "ST     0.117237\n",
      "CB     0.108785\n",
      "CM     0.082732\n",
      "LB     0.077692\n",
      "RB     0.073505\n",
      "RM     0.059394\n",
      "LM     0.056447\n",
      "CDM    0.053578\n",
      "CAM    0.049081\n",
      "RCB    0.032411\n",
      "LCB    0.031713\n",
      "LW     0.018764\n",
      "RCM    0.018609\n",
      "RW     0.018376\n",
      "LCM    0.018066\n",
      "LDM    0.011476\n",
      "RDM    0.010700\n",
      "LS     0.009382\n",
      "RS     0.008839\n",
      "RWB    0.005428\n",
      "LWB    0.004652\n",
      "CF     0.003954\n",
      "LF     0.000620\n",
      "RF     0.000465\n",
      "LAM    0.000465\n",
      "RAM    0.000388\n",
      "Name: Position, dtype: float64\n"
     ]
    }
   ],
   "source": [
    "s = football['Position'].value_counts(normalize = True)\n",
    "a = len(s.index)\n",
    "print(s)"
   ]
  },
  {
   "cell_type": "code",
   "execution_count": 28,
   "metadata": {},
   "outputs": [
    {
     "data": {
      "text/plain": [
       "(21.2, 39.4]     4859\n",
       "(39.4, 57.6]     3957\n",
       "(57.6, 75.8]     2108\n",
       "(2.908, 21.2]    1760\n",
       "(75.8, 94.0]      213\n",
       "Name: FKAccuracy, dtype: int64"
      ]
     },
     "metadata": {},
     "output_type": "display_data"
    },
    {
     "data": {
      "text/plain": [
       "IntervalIndex([(21.2, 39.4], (39.4, 57.6], (57.6, 75.8], (2.908, 21.2], (75.8, 94.0]],\n",
       "              closed='right',\n",
       "              dtype='interval[float64]')"
      ]
     },
     "metadata": {},
     "output_type": "display_data"
    },
    {
     "data": {
      "text/plain": [
       "Interval(2.908, 21.2, closed='right')"
      ]
     },
     "metadata": {},
     "output_type": "display_data"
    },
    {
     "data": {
      "text/plain": [
       "2.908"
      ]
     },
     "metadata": {},
     "output_type": "display_data"
    },
    {
     "data": {
      "text/plain": [
       "21.2"
      ]
     },
     "metadata": {},
     "output_type": "display_data"
    }
   ],
   "source": [
    "small_df = football[football.columns[0:7]].head(25)\n",
    "\n",
    "s = football['FKAccuracy'].value_counts(bins=5)\n",
    "\n",
    "display(s)\n",
    "\n",
    "display(s.index)\n",
    "\n",
    "display(s.index[3])\n",
    "\n",
    "display(s.index[3].left)\n",
    "\n",
    "display(s.index[3].right)\n",
    "\n",
    "#small_df['Wage'] > s.index[3].left"
   ]
  },
  {
   "cell_type": "code",
   "execution_count": null,
   "metadata": {},
   "outputs": [],
   "source": [
    "У какого процента испанских футболистов (Nationality = 'Spain') зарплата (Wage)\n",
    "находится в пределах 25% минимума от наблюдаемого уровня зарплат среди испанских игроков? \n",
    "Ответ дайте в виде целого числа (округлите полученный результат) без знака %.\n",
    "\n",
    "Подсказка: Для решения задачи используйте value_counts() с параметром bins = 4."
   ]
  },
  {
   "cell_type": "code",
   "execution_count": 35,
   "metadata": {},
   "outputs": [
    {
     "data": {
      "text/plain": [
       "(620.999, 95750.0]      0.970194\n",
       "(95750.0, 190500.0]     0.016393\n",
       "(190500.0, 285250.0]    0.008942\n",
       "(285250.0, 380000.0]    0.004471\n",
       "Name: Wage, dtype: float64"
      ]
     },
     "metadata": {},
     "output_type": "display_data"
    }
   ],
   "source": [
    "spwag = football[football.Nationality == 'Spain']\n",
    "spwag = spwag['Wage'].value_counts(bins = 4, normalize = True)\n",
    "display(spwag)"
   ]
  },
  {
   "cell_type": "code",
   "execution_count": null,
   "metadata": {},
   "outputs": [],
   "source": [
    "Укажите количество уникальных сборных (Nationality), к которым относятся футболисты, \n",
    "выступающие за клуб (Club) \"Manchester United\"."
   ]
  },
  {
   "cell_type": "code",
   "execution_count": 36,
   "metadata": {},
   "outputs": [
    {
     "data": {
      "text/plain": [
       "13"
      ]
     },
     "metadata": {},
     "output_type": "display_data"
    }
   ],
   "source": [
    "clubs = football[football.Club == \"Manchester United\"]\n",
    "clubs = clubs['Nationality'].nunique()\n",
    "display(clubs)"
   ]
  },
  {
   "cell_type": "code",
   "execution_count": null,
   "metadata": {},
   "outputs": [],
   "source": [
    "С помощью функции unique определите двух футболистов из Бразилии (Nationality = 'Brazil'), \n",
    "выступающих за клуб (Club) 'Juventus'. Перечислите их имена (Name, как в датафрейме) \n",
    "через запятую в алфавитном порядке.\n"
   ]
  },
  {
   "cell_type": "code",
   "execution_count": 45,
   "metadata": {},
   "outputs": [
    {
     "name": "stdout",
     "output_type": "stream",
     "text": [
      "    Unnamed: 0           Name  Age Nationality      Club     Value    Wage  \\\n",
      "64          64    Alex Sandro   27      Brazil  Juventus  36500000  160000   \n",
      "65          65  Douglas Costa   27      Brazil  Juventus  46500000  175000   \n",
      "\n",
      "   Position  Crossing  Finishing  ...  Penalties  Composure  Marking  \\\n",
      "64       LB        84         55  ...         60         82       81   \n",
      "65       LM        84         67  ...         77         84       45   \n",
      "\n",
      "    StandingTackle  SlidingTackle  GKDiving  GKHandling  GKKicking  \\\n",
      "64              84             84         7           7          9   \n",
      "65              38             34        13          15          9   \n",
      "\n",
      "    GKPositioning  GKReflexes  \n",
      "64             12           5  \n",
      "65             12           5  \n",
      "\n",
      "[2 rows x 42 columns]\n"
     ]
    },
    {
     "data": {
      "text/plain": [
       "array(['Alex Sandro', 'Douglas Costa'], dtype=object)"
      ]
     },
     "metadata": {},
     "output_type": "display_data"
    }
   ],
   "source": [
    "clubs =football[(football.Nationality == 'Brazil') & (football.Club == 'Juventus')]\n",
    "print(clubs)\n",
    "s = clubs['Name'].unique()\n",
    "display(s)"
   ]
  },
  {
   "cell_type": "code",
   "execution_count": null,
   "metadata": {},
   "outputs": [],
   "source": [
    "Укажите, какой из клубов (Club) насчитывает большее количество футболистов возрастом (Age) старше 35 лет"
   ]
  },
  {
   "cell_type": "code",
   "execution_count": 49,
   "metadata": {},
   "outputs": [
    {
     "data": {
      "text/plain": [
       "Club Atlético Huracán         4\n",
       "Hokkaido Consadole Sapporo    4\n",
       "Hammarby IF                   3\n",
       "Morecambe                     3\n",
       "Club Atlético Colón           3\n",
       "                             ..\n",
       "Monarcas Morelia              1\n",
       "Walsall                       1\n",
       "FC Erzgebirge Aue             1\n",
       "Lillestrøm SK                 1\n",
       "Al Nassr                      1\n",
       "Name: Club, Length: 212, dtype: int64"
      ]
     },
     "execution_count": 49,
     "metadata": {},
     "output_type": "execute_result"
    }
   ],
   "source": [
    "clubs =football[(football.Age > 35)]\n",
    "clubs['Club'].value_counts()"
   ]
  },
  {
   "cell_type": "code",
   "execution_count": null,
   "metadata": {},
   "outputs": [],
   "source": [
    "С помощью функции value_counts с параметром bins разбейте всех футболистов родом \n",
    "из Аргентины (Nationality = 'Argentina') на 4 равные группы по возрасту.\n",
    "Сколько футболистов в возрасте от 34,75 до 41 года в сборной Аргентины?"
   ]
  },
  {
   "cell_type": "code",
   "execution_count": 51,
   "metadata": {},
   "outputs": [
    {
     "data": {
      "text/plain": [
       "(22.25, 28.5]      200\n",
       "(15.974, 22.25]    197\n",
       "(28.5, 34.75]      128\n",
       "(34.75, 41.0]       49\n",
       "Name: Age, dtype: int64"
      ]
     },
     "metadata": {},
     "output_type": "display_data"
    }
   ],
   "source": [
    "fb = football[football.Nationality == 'Argentina']\n",
    "fb = fb['Age'].value_counts(bins = 4)\n",
    "display(fb)"
   ]
  },
  {
   "cell_type": "code",
   "execution_count": null,
   "metadata": {},
   "outputs": [],
   "source": [
    "Сколько процентов футболистов из Испании (Nationality = 'Spain') имеют возраст (Age) 21 год?\n",
    "Введите с точностью до 2 знаков после запятой без указания знака % (например, 12.35)."
   ]
  },
  {
   "cell_type": "code",
   "execution_count": 55,
   "metadata": {},
   "outputs": [
    {
     "data": {
      "text/plain": [
       "21    0.117735\n",
       "22    0.095380\n",
       "20    0.077496\n",
       "23    0.071535\n",
       "25    0.064083\n",
       "27    0.062593\n",
       "24    0.059613\n",
       "28    0.053651\n",
       "26    0.053651\n",
       "29    0.047690\n",
       "19    0.047690\n",
       "18    0.038748\n",
       "30    0.038748\n",
       "31    0.032787\n",
       "32    0.032787\n",
       "33    0.031297\n",
       "34    0.022355\n",
       "17    0.013413\n",
       "35    0.011923\n",
       "36    0.010432\n",
       "37    0.008942\n",
       "39    0.002981\n",
       "16    0.002981\n",
       "38    0.001490\n",
       "Name: Age, dtype: float64"
      ]
     },
     "metadata": {},
     "output_type": "display_data"
    }
   ],
   "source": [
    "fb =  football[football.Nationality == 'Spain']\n",
    "fb = fb['Age'].value_counts(normalize = True)\n",
    "display(fb)\n"
   ]
  },
  {
   "cell_type": "code",
   "execution_count": null,
   "metadata": {},
   "outputs": [],
   "source": []
  },
  {
   "cell_type": "code",
   "execution_count": null,
   "metadata": {},
   "outputs": [],
   "source": []
  },
  {
   "cell_type": "code",
   "execution_count": null,
   "metadata": {},
   "outputs": [],
   "source": []
  },
  {
   "cell_type": "code",
   "execution_count": null,
   "metadata": {},
   "outputs": [],
   "source": []
  },
  {
   "cell_type": "code",
   "execution_count": null,
   "metadata": {},
   "outputs": [],
   "source": []
  },
  {
   "cell_type": "code",
   "execution_count": null,
   "metadata": {},
   "outputs": [],
   "source": []
  },
  {
   "cell_type": "code",
   "execution_count": null,
   "metadata": {},
   "outputs": [],
   "source": []
  },
  {
   "cell_type": "code",
   "execution_count": null,
   "metadata": {},
   "outputs": [],
   "source": []
  },
  {
   "cell_type": "code",
   "execution_count": null,
   "metadata": {},
   "outputs": [],
   "source": []
  },
  {
   "cell_type": "code",
   "execution_count": null,
   "metadata": {},
   "outputs": [],
   "source": []
  },
  {
   "cell_type": "code",
   "execution_count": null,
   "metadata": {},
   "outputs": [],
   "source": []
  },
  {
   "cell_type": "code",
   "execution_count": null,
   "metadata": {},
   "outputs": [],
   "source": []
  },
  {
   "cell_type": "code",
   "execution_count": null,
   "metadata": {},
   "outputs": [],
   "source": []
  },
  {
   "cell_type": "code",
   "execution_count": null,
   "metadata": {},
   "outputs": [],
   "source": []
  },
  {
   "cell_type": "code",
   "execution_count": null,
   "metadata": {},
   "outputs": [],
   "source": []
  },
  {
   "cell_type": "code",
   "execution_count": null,
   "metadata": {},
   "outputs": [],
   "source": []
  },
  {
   "cell_type": "code",
   "execution_count": null,
   "metadata": {},
   "outputs": [],
   "source": []
  },
  {
   "cell_type": "code",
   "execution_count": null,
   "metadata": {},
   "outputs": [],
   "source": []
  },
  {
   "cell_type": "code",
   "execution_count": null,
   "metadata": {},
   "outputs": [],
   "source": []
  },
  {
   "cell_type": "code",
   "execution_count": null,
   "metadata": {},
   "outputs": [],
   "source": []
  },
  {
   "cell_type": "code",
   "execution_count": null,
   "metadata": {},
   "outputs": [],
   "source": []
  },
  {
   "cell_type": "code",
   "execution_count": null,
   "metadata": {},
   "outputs": [],
   "source": []
  },
  {
   "cell_type": "code",
   "execution_count": null,
   "metadata": {},
   "outputs": [],
   "source": []
  },
  {
   "cell_type": "code",
   "execution_count": null,
   "metadata": {},
   "outputs": [],
   "source": []
  },
  {
   "cell_type": "code",
   "execution_count": null,
   "metadata": {},
   "outputs": [],
   "source": []
  },
  {
   "cell_type": "code",
   "execution_count": null,
   "metadata": {},
   "outputs": [],
   "source": []
  },
  {
   "cell_type": "code",
   "execution_count": null,
   "metadata": {},
   "outputs": [],
   "source": []
  },
  {
   "cell_type": "code",
   "execution_count": null,
   "metadata": {},
   "outputs": [],
   "source": []
  },
  {
   "cell_type": "code",
   "execution_count": null,
   "metadata": {},
   "outputs": [],
   "source": []
  },
  {
   "cell_type": "code",
   "execution_count": null,
   "metadata": {},
   "outputs": [],
   "source": []
  },
  {
   "cell_type": "code",
   "execution_count": null,
   "metadata": {},
   "outputs": [],
   "source": []
  },
  {
   "cell_type": "code",
   "execution_count": null,
   "metadata": {},
   "outputs": [],
   "source": []
  },
  {
   "cell_type": "code",
   "execution_count": null,
   "metadata": {},
   "outputs": [],
   "source": []
  },
  {
   "cell_type": "code",
   "execution_count": null,
   "metadata": {},
   "outputs": [],
   "source": []
  },
  {
   "cell_type": "code",
   "execution_count": null,
   "metadata": {},
   "outputs": [],
   "source": []
  },
  {
   "cell_type": "code",
   "execution_count": null,
   "metadata": {},
   "outputs": [],
   "source": []
  },
  {
   "cell_type": "code",
   "execution_count": 6,
   "metadata": {},
   "outputs": [
    {
     "data": {
      "text/plain": [
       "count      1747\n",
       "unique       98\n",
       "top       Spain\n",
       "freq        211\n",
       "Name: Nationality, dtype: object"
      ]
     },
     "execution_count": 6,
     "metadata": {},
     "output_type": "execute_result"
    }
   ],
   "source": [
    "fotball"
   ]
  },
  {
   "cell_type": "code",
   "execution_count": null,
   "metadata": {},
   "outputs": [],
   "source": []
  },
  {
   "cell_type": "code",
   "execution_count": null,
   "metadata": {},
   "outputs": [],
   "source": []
  },
  {
   "cell_type": "code",
   "execution_count": null,
   "metadata": {},
   "outputs": [],
   "source": []
  },
  {
   "cell_type": "code",
   "execution_count": null,
   "metadata": {},
   "outputs": [],
   "source": []
  },
  {
   "cell_type": "code",
   "execution_count": null,
   "metadata": {},
   "outputs": [],
   "source": []
  },
  {
   "cell_type": "code",
   "execution_count": null,
   "metadata": {},
   "outputs": [],
   "source": []
  },
  {
   "cell_type": "code",
   "execution_count": null,
   "metadata": {},
   "outputs": [],
   "source": []
  },
  {
   "cell_type": "code",
   "execution_count": null,
   "metadata": {},
   "outputs": [],
   "source": []
  },
  {
   "cell_type": "code",
   "execution_count": 85,
   "metadata": {},
   "outputs": [
    {
     "data": {
      "text/plain": [
       "24"
      ]
     },
     "execution_count": 85,
     "metadata": {},
     "output_type": "execute_result"
    }
   ],
   "source": []
  },
  {
   "cell_type": "code",
   "execution_count": null,
   "metadata": {},
   "outputs": [],
   "source": []
  },
  {
   "cell_type": "code",
   "execution_count": null,
   "metadata": {},
   "outputs": [],
   "source": []
  },
  {
   "cell_type": "code",
   "execution_count": null,
   "metadata": {},
   "outputs": [],
   "source": []
  },
  {
   "cell_type": "code",
   "execution_count": null,
   "metadata": {},
   "outputs": [],
   "source": []
  },
  {
   "cell_type": "code",
   "execution_count": null,
   "metadata": {},
   "outputs": [],
   "source": []
  },
  {
   "cell_type": "code",
   "execution_count": null,
   "metadata": {},
   "outputs": [],
   "source": []
  },
  {
   "cell_type": "code",
   "execution_count": null,
   "metadata": {},
   "outputs": [],
   "source": []
  },
  {
   "cell_type": "code",
   "execution_count": null,
   "metadata": {},
   "outputs": [],
   "source": []
  },
  {
   "cell_type": "code",
   "execution_count": null,
   "metadata": {},
   "outputs": [],
   "source": []
  },
  {
   "cell_type": "code",
   "execution_count": null,
   "metadata": {},
   "outputs": [],
   "source": []
  },
  {
   "cell_type": "code",
   "execution_count": null,
   "metadata": {},
   "outputs": [],
   "source": []
  },
  {
   "cell_type": "code",
   "execution_count": null,
   "metadata": {},
   "outputs": [],
   "source": []
  },
  {
   "cell_type": "code",
   "execution_count": null,
   "metadata": {},
   "outputs": [],
   "source": []
  },
  {
   "cell_type": "code",
   "execution_count": null,
   "metadata": {},
   "outputs": [],
   "source": []
  },
  {
   "cell_type": "code",
   "execution_count": null,
   "metadata": {},
   "outputs": [],
   "source": []
  },
  {
   "cell_type": "code",
   "execution_count": null,
   "metadata": {},
   "outputs": [],
   "source": []
  },
  {
   "cell_type": "code",
   "execution_count": null,
   "metadata": {},
   "outputs": [],
   "source": []
  },
  {
   "cell_type": "code",
   "execution_count": null,
   "metadata": {},
   "outputs": [],
   "source": []
  },
  {
   "cell_type": "code",
   "execution_count": null,
   "metadata": {},
   "outputs": [],
   "source": []
  },
  {
   "cell_type": "code",
   "execution_count": null,
   "metadata": {},
   "outputs": [],
   "source": []
  },
  {
   "cell_type": "code",
   "execution_count": null,
   "metadata": {},
   "outputs": [],
   "source": []
  },
  {
   "cell_type": "code",
   "execution_count": null,
   "metadata": {},
   "outputs": [],
   "source": []
  },
  {
   "cell_type": "code",
   "execution_count": null,
   "metadata": {},
   "outputs": [],
   "source": []
  },
  {
   "cell_type": "code",
   "execution_count": null,
   "metadata": {},
   "outputs": [],
   "source": []
  },
  {
   "cell_type": "code",
   "execution_count": null,
   "metadata": {},
   "outputs": [],
   "source": []
  },
  {
   "cell_type": "code",
   "execution_count": null,
   "metadata": {},
   "outputs": [],
   "source": []
  },
  {
   "cell_type": "code",
   "execution_count": null,
   "metadata": {},
   "outputs": [],
   "source": []
  },
  {
   "cell_type": "code",
   "execution_count": null,
   "metadata": {},
   "outputs": [],
   "source": []
  },
  {
   "cell_type": "code",
   "execution_count": null,
   "metadata": {},
   "outputs": [],
   "source": []
  },
  {
   "cell_type": "code",
   "execution_count": null,
   "metadata": {},
   "outputs": [],
   "source": []
  },
  {
   "cell_type": "code",
   "execution_count": null,
   "metadata": {},
   "outputs": [],
   "source": []
  },
  {
   "cell_type": "code",
   "execution_count": null,
   "metadata": {},
   "outputs": [],
   "source": []
  },
  {
   "cell_type": "code",
   "execution_count": null,
   "metadata": {},
   "outputs": [],
   "source": []
  },
  {
   "cell_type": "code",
   "execution_count": null,
   "metadata": {},
   "outputs": [],
   "source": []
  },
  {
   "cell_type": "code",
   "execution_count": null,
   "metadata": {},
   "outputs": [],
   "source": []
  },
  {
   "cell_type": "code",
   "execution_count": null,
   "metadata": {},
   "outputs": [],
   "source": []
  },
  {
   "cell_type": "code",
   "execution_count": null,
   "metadata": {},
   "outputs": [],
   "source": []
  },
  {
   "cell_type": "code",
   "execution_count": null,
   "metadata": {},
   "outputs": [],
   "source": []
  },
  {
   "cell_type": "code",
   "execution_count": null,
   "metadata": {},
   "outputs": [],
   "source": []
  },
  {
   "cell_type": "code",
   "execution_count": null,
   "metadata": {},
   "outputs": [],
   "source": []
  },
  {
   "cell_type": "code",
   "execution_count": null,
   "metadata": {},
   "outputs": [],
   "source": []
  },
  {
   "cell_type": "code",
   "execution_count": null,
   "metadata": {},
   "outputs": [],
   "source": []
  },
  {
   "cell_type": "code",
   "execution_count": null,
   "metadata": {},
   "outputs": [],
   "source": []
  },
  {
   "cell_type": "code",
   "execution_count": null,
   "metadata": {},
   "outputs": [],
   "source": []
  },
  {
   "cell_type": "code",
   "execution_count": null,
   "metadata": {},
   "outputs": [],
   "source": []
  },
  {
   "cell_type": "code",
   "execution_count": null,
   "metadata": {},
   "outputs": [],
   "source": []
  },
  {
   "cell_type": "code",
   "execution_count": null,
   "metadata": {},
   "outputs": [],
   "source": []
  },
  {
   "cell_type": "code",
   "execution_count": null,
   "metadata": {},
   "outputs": [],
   "source": []
  },
  {
   "cell_type": "code",
   "execution_count": null,
   "metadata": {},
   "outputs": [],
   "source": []
  },
  {
   "cell_type": "code",
   "execution_count": null,
   "metadata": {},
   "outputs": [],
   "source": []
  },
  {
   "cell_type": "code",
   "execution_count": null,
   "metadata": {},
   "outputs": [],
   "source": []
  }
 ],
 "metadata": {
  "kernelspec": {
   "display_name": "Python 3",
   "language": "python",
   "name": "python3"
  },
  "language_info": {
   "codemirror_mode": {
    "name": "ipython",
    "version": 3
   },
   "file_extension": ".py",
   "mimetype": "text/x-python",
   "name": "python",
   "nbconvert_exporter": "python",
   "pygments_lexer": "ipython3",
   "version": "3.8.3"
  }
 },
 "nbformat": 4,
 "nbformat_minor": 4
}
